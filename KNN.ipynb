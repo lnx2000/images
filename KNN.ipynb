{
 "cells": [
  {
   "cell_type": "code",
   "execution_count": 1,
   "metadata": {},
   "outputs": [],
   "source": [
    "import numpy as np\n",
    "import cv2\n",
    "import tensorflow as tf\n",
    "import os"
   ]
  },
  {
   "cell_type": "code",
   "execution_count": 12,
   "metadata": {},
   "outputs": [],
   "source": [
    "class KNNClassifier:\n",
    "  def __init__(self, topk):\n",
    "    self.dataset = []\n",
    "    self.classtoid = {}\n",
    "    self.idtoclass = {}\n",
    "    self.entries = []\n",
    "    self.nextclassid = 0\n",
    "    self.topk = topk\n",
    "\n",
    "  def addExample(self, image, label):\n",
    "\n",
    "    if label not in self.classtoid:\n",
    "      self.classtoid[label] = self.nextclassid\n",
    "      self.idtoclass[self.nextclassid] = label\n",
    "      self.nextclassid += 1\n",
    "\n",
    "    label = self.classtoid[label]\n",
    "    self.entries.append(label)\n",
    "    self.dataset.append(image.flatten())\n",
    "\n",
    "  def similarities(self, image):\n",
    "    return np.sqrt(np.mean((self.dataset-image)**2, axis = 1))\n",
    "\n",
    "  def predict(self, image):\n",
    "    image = image.flatten()\n",
    "    if self.topk>len(list(self.classtoid.keys())):\n",
    "      topk = len(list(self.classtoid.keys()))\n",
    "    else:\n",
    "      topk = self.topk\n",
    "\n",
    "    rms = self.similarities(image)\n",
    "    topindices = np.argpartition(rms, topk)[:topk]\n",
    "    classesintopk = np.array(self.entries)[topindices]\n",
    "    unique, count = np.unique(classesintopk, return_counts=True)\n",
    "    sums = []\n",
    "\n",
    "    if len(np.where(count==count.max())[0])!=1:\n",
    "      topkrms = np.array(rms)[topindices]\n",
    "      for i in unique:\n",
    "        idx = np.where(i==classesintopk)\n",
    "        rmssum = np.array(topkrms)[idx[0]].sum()\n",
    "        sums.append(rmssum)\n",
    "      minid = np.argmin(sums)\n",
    "      pred = unique[minid]\n",
    "    else:\n",
    "      pred = unique[count.argmax()]\n",
    "\n",
    "    return self.idtoclass[pred]\n",
    "\n"
   ]
  },
  {
   "cell_type": "code",
   "execution_count": 13,
   "metadata": {},
   "outputs": [
    {
     "name": "stdout",
     "output_type": "stream",
     "text": [
      "WARNING:tensorflow:No training configuration found in save file: the model was *not* compiled. Compile it manually.\n"
     ]
    }
   ],
   "source": [
    "model = tf.keras.models.load_model(\"MobileNet.h5\")\n",
    "model = tf.keras.models.Model(model.input, model.get_layer(\"global_average_pooling2d_1\").output)"
   ]
  },
  {
   "cell_type": "code",
   "execution_count": 14,
   "metadata": {},
   "outputs": [
    {
     "name": "stdout",
     "output_type": "stream",
     "text": [
      "Found 2 classes\n",
      "Found 962 examples in cats class\n",
      "Found 964 examples in dogs class\n"
     ]
    }
   ],
   "source": [
    "dataset = \"D:/datasets/dataset/\"\n",
    "knn = KNNClassifier(7)\n",
    "\n",
    "classes = os.listdir(dataset)\n",
    "print(\"Found {} classes\".format(len(classes)))\n",
    "for cls in classes:\n",
    "  path = dataset + cls + '/'\n",
    "  count = os.listdir(path)\n",
    "  print(\"Found {} examples in {} class\".format(len(count), cls))\n",
    "  for name in count:\n",
    "    img = cv2.imread(path + name)\n",
    "    img = cv2.resize(img, (224,224))\n",
    "    pred = model.predict(img[np.newaxis,:])\n",
    "    knn.addExample(pred, cls)"
   ]
  },
  {
   "cell_type": "code",
   "execution_count": 15,
   "metadata": {
    "scrolled": false
   },
   "outputs": [],
   "source": [
    "#try on class = cat\n",
    "true_cat_predictions = []\n",
    "path = \"D:/datasets/test_dataset/\"\n",
    "li = os.listdir(path + 'cats/')\n",
    "for name in li:\n",
    "    img = cv2.imread(\"D:/datasets/test_dataset/cats/\" + name)\n",
    "    img = cv2.resize(img, (224,224))\n",
    "    pred = model.predict(img[np.newaxis,:])\n",
    "    p = knn.predict(pred)\n",
    "    true_cat_predictions.append(p)"
   ]
  },
  {
   "cell_type": "code",
   "execution_count": 16,
   "metadata": {},
   "outputs": [],
   "source": [
    "#try on class = cat\n",
    "true_dog_predictions = []\n",
    "path = \"D:/datasets/test_dataset/\"\n",
    "li = os.listdir(path + 'dogs/')\n",
    "for name in li:\n",
    "    img = cv2.imread(\"D:/datasets/test_dataset/dogs/\" + name)\n",
    "    img = cv2.resize(img, (224,224))\n",
    "    pred = model.predict(img[np.newaxis,:])\n",
    "    p = knn.predict(pred)\n",
    "    true_dog_predictions.append(p)"
   ]
  },
  {
   "cell_type": "code",
   "execution_count": 29,
   "metadata": {},
   "outputs": [
    {
     "name": "stdout",
     "output_type": "stream",
     "text": [
      "For Cats:\n",
      "21 from 36 predicted successfully\n",
      "\n",
      "For Dogs:\n",
      "21 from 36 predicted successfully\n",
      "\n",
      "Overall Accuracy: 61.11%\n"
     ]
    }
   ],
   "source": [
    "print(\"For Cats:\")\n",
    "truec = len(np.where(np.array(true_cat_predictions)=='cats')[0])\n",
    "print(\"{} from {} predicted successfully\".format(true, len(true_cat_predictions)))\n",
    "print(\"\\nFor Dogs:\")\n",
    "trued = len(np.where(np.array(true_dog_predictions)=='dogs')[0])\n",
    "print(\"{} from {} predicted successfully\".format(true, len(true_dog_predictions)))\n",
    "\n",
    "print(\"\\nOverall Accuracy: {}%\".format(np.round((truec+trued)/(len(true_cat_predictions)+len(true_dog_predictions))*100,2)))\n"
   ]
  },
  {
   "cell_type": "code",
   "execution_count": null,
   "metadata": {},
   "outputs": [],
   "source": []
  },
  {
   "cell_type": "code",
   "execution_count": null,
   "metadata": {},
   "outputs": [],
   "source": []
  },
  {
   "cell_type": "code",
   "execution_count": null,
   "metadata": {},
   "outputs": [],
   "source": []
  }
 ],
 "metadata": {
  "kernelspec": {
   "display_name": "Python 3",
   "language": "python",
   "name": "python3"
  },
  "language_info": {
   "codemirror_mode": {
    "name": "ipython",
    "version": 3
   },
   "file_extension": ".py",
   "mimetype": "text/x-python",
   "name": "python",
   "nbconvert_exporter": "python",
   "pygments_lexer": "ipython3",
   "version": "3.7.4"
  }
 },
 "nbformat": 4,
 "nbformat_minor": 2
}
